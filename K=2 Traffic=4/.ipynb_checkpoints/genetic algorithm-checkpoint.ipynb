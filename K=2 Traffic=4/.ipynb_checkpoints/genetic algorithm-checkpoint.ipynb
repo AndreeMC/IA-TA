{
 "cells": [
  {
   "cell_type": "markdown",
   "metadata": {},
   "source": [
    "### libraries and funcitions"
   ]
  },
  {
   "cell_type": "code",
   "execution_count": 1,
   "metadata": {},
   "outputs": [],
   "source": [
    "import sys\n",
    "import time\n",
    "import numpy as np\n",
    "from random import shuffle, random, sample, randint, randrange, uniform\n",
    "from copy import deepcopy\n",
    "import matplotlib.pyplot as plt\n",
    "import math"
   ]
  },
  {
   "cell_type": "markdown",
   "metadata": {},
   "source": [
    "### structure of the individual"
   ]
  },
  {
   "cell_type": "code",
   "execution_count": 42,
   "metadata": {},
   "outputs": [],
   "source": [
    "class Individual:\n",
    "    \"\"\" Clase que implementa el individuo y sus operadores. El cromosoma de un individuo es una lista de caracteres,\n",
    "       cada elemento de la lista es un gen cuyos alelos (caracteres) posibles se indican en allele_pool\"\"\"\n",
    "\n",
    "    def __init__(self, chromosome, allele_pool):  # el constructor recibe el cromosoma  y el pool de alelos posibles\n",
    "        \n",
    "        self.chromosome = chromosome[:]\n",
    "        self.allele_pool = allele_pool\n",
    "        self.fitness = -1  # -1 indica que el individuo no ha sido evaluado\n",
    "        \n",
    "    def print_chromosome(self):\n",
    "        print('chromosome {}'.format(self.chromosome))\n",
    "        print('fitness {}'.format(self.fitness))\n",
    "\n",
    "    def crossover_onepoint(self, other):\n",
    "        \"Retorna dos nuevos individuos del cruzamiento de un punto entre individuos self y other \"\n",
    "        c = randrange(len(self.chromosome))\n",
    "        \n",
    "        ind1 = Individual(self.chromosome[:c] + other.chromosome[c:], allele_pool)\n",
    "        ind2 = Individual(other.chromosome[:c] + self.chromosome[c:], allele_pool)\n",
    "\n",
    "        return [ind1, ind2]   \n",
    "    \n",
    "    \n",
    "    def crossover_uniform(self, other):\n",
    "        chromosome1 = []\n",
    "        chromosome2 = []\n",
    "        \"Retorna dos nuevos individuos del cruzamiento uniforme entre self y other \"\n",
    "        for i in range(len(self.chromosome)):\n",
    "            if uniform(0, 1) < 0.5:\n",
    "                chromosome1.append(self.chromosome[i])\n",
    "                chromosome2.append(other.chromosome[i])\n",
    "            else:\n",
    "                chromosome1.append(other.chromosome[i])\n",
    "                chromosome2.append(self.chromosome[i])\n",
    "        ind1 = Individual(chromosome1, allele_pool)\n",
    "        ind2 = Individual(chromosome2, allele_pool)\n",
    "        return [ind1, ind2] \n",
    "\n",
    "    def mutate_position(self):\n",
    "        \"Cambia aleatoriamente el alelo de un gen.\"\n",
    "        mutated_chromosome = deepcopy(self.chromosome)\n",
    "        mutGene = randrange(0,len(mutated_chromosome)) \n",
    "        newAllele1 = allele_pool[randrange(0,len(allele_pool))]\n",
    "        newAllele2 = allele_pool[randrange(0,len(allele_pool))]\n",
    "        mutated_chromosome[mutGene] = tuple([newAllele1, newAllele2])\n",
    "        return Individual(mutated_chromosome, allele_pool)\n",
    "        \n",
    "    def mutate_swap(self):\n",
    "        \"Escoge dos genes e intercambia sus alelos\"\n",
    "        mutated_chromosome = deepcopy(self.chromosome)\n",
    "        mutGen1 = randrange(0,len(mutated_chromosome))\n",
    "        mutGen2 = randrange(0,len(mutated_chromosome))\n",
    "        temp = mutated_chromosome[mutGen1]\n",
    "        mutated_chromosome[mutGen1] = mutated_chromosome[mutGen2]\n",
    "        mutated_chromosome[mutGen2] = temp\n",
    "        return Individual(mutated_chromosome, allele_pool)"
   ]
  },
  {
   "cell_type": "markdown",
   "metadata": {},
   "source": [
    "#### fitness function to evaluarte one individual"
   ]
  },
  {
   "cell_type": "code",
   "execution_count": 3,
   "metadata": {},
   "outputs": [],
   "source": [
    "def matching_characters(chromosome, target_string):\n",
    "    \"\"\"Retorna el fitness de un cromosoma como el numero de caracteres coincidentes con la frase objetivo\"\"\"\n",
    "    fitness = 0 # initialize fitness to 0\n",
    "    for i in range(len(chromosome)):\n",
    "        # increment fitness by 1 for every matching character\n",
    "        if chromosome[i] == target_string[i]:\n",
    "            fitness += 1\n",
    "    return fitness"
   ]
  },
  {
   "cell_type": "markdown",
   "metadata": {},
   "source": [
    "#### fitness evaluation for gpa maximization"
   ]
  },
  {
   "cell_type": "code",
   "execution_count": 4,
   "metadata": {},
   "outputs": [],
   "source": [
    "def gpa_maximization(chromosome, queued_vehicles):\n",
    "    \"\"\"Retorna el fitness de un cromosoma la maximization de la funcion convexa\"\"\"\n",
    "    fitness = 0 # initialize fitness to 0\n",
    "    for i in range(len(chromosome)):\n",
    "        # increment fitness by 1 for every matching character\n",
    "        fitness += gpa_one_intersection(chromosome[i], queued_vehicles[i])\n",
    "    return fitness"
   ]
  },
  {
   "cell_type": "code",
   "execution_count": 5,
   "metadata": {},
   "outputs": [],
   "source": [
    "def gpa_one_intersection(time_inter, queued_inter, k=2):\n",
    "\n",
    "    fitness = 0\n",
    "    total_time = sum(time_inter) + 6\n",
    "\n",
    "    for i in range(0, len(queued_inter)):\n",
    "        fitness += gpa_one_lane(time_inter[i%2],queued_inter[i], total_time)\n",
    "        \n",
    "    return fitness"
   ]
  },
  {
   "cell_type": "code",
   "execution_count": 6,
   "metadata": {},
   "outputs": [],
   "source": [
    "def gpa_one_lane(time_lane, queued_lane, total_time, k=2):\n",
    "    v = time_lane/total_time\n",
    "    w = 6/total_time\n",
    "\n",
    "    fitness = queued_lane*math.log(v) + k*math.log(w)\n",
    "    \n",
    "    return fitness"
   ]
  },
  {
   "cell_type": "markdown",
   "metadata": {},
   "source": [
    "#### fitness function to evaluarte one population\n"
   ]
  },
  {
   "cell_type": "code",
   "execution_count": 7,
   "metadata": {},
   "outputs": [],
   "source": [
    "def evaluate_population(population, fitness_fn, queued_vehicles):\n",
    "    \"\"\" Evalua una poblacion de individuos con la funcion de fitness pasada \"\"\"\n",
    "    popsize = len(population)\n",
    "    for i in range(popsize):\n",
    "        if population[i].fitness == -1:    # evalua solo si el individuo no esta evaluado\n",
    "            population[i].fitness = fitness_fn(population[i].chromosome, queued_vehicles)"
   ]
  },
  {
   "cell_type": "markdown",
   "metadata": {},
   "source": [
    "#### fitness function to initialize one population"
   ]
  },
  {
   "cell_type": "code",
   "execution_count": 8,
   "metadata": {},
   "outputs": [],
   "source": [
    "def init_population(pop_number, chromosome_size, allele_pool):\n",
    "    \"\"\"Initializes population for genetic algorithm\n",
    "    pop_number  :  Number of individuals in population\n",
    "    chromosome_size: The number of genes in each individual chromosome. \n",
    "    allele_pool :  List of possible values for the genes. This list is valid for all genes \"\"\"\n",
    "    num_alleles = len(allele_pool)\n",
    "    population = []\n",
    "    for i in range(pop_number):\n",
    "        new_chromosome = [allele_pool[randrange(0, num_alleles)] for j in range(chromosome_size)]\n",
    "        chromosome1 = new_chromosome[:10]\n",
    "        chromosome2 = new_chromosome[10:]\n",
    "        new_chromosome = list(zip(chromosome1, chromosome2))\n",
    "        population.append( Individual(new_chromosome, allele_pool) )\n",
    "    return population"
   ]
  },
  {
   "cell_type": "markdown",
   "metadata": {},
   "source": [
    "#### selection parents function with the roulette method"
   ]
  },
  {
   "cell_type": "code",
   "execution_count": 9,
   "metadata": {},
   "outputs": [],
   "source": [
    "def select_parents_roulette(population):\n",
    "    popsize = len(population)\n",
    "\n",
    "    # Escoje el primer padre\n",
    "    sumfitness = sum([indiv.fitness for indiv in population])  # suma total del fitness de la poblacion\n",
    "    pickfitness = uniform(0, sumfitness)   # escoge un numero aleatorio entre 0 y sumfitness\n",
    "    cumfitness = 0     # fitness acumulado\n",
    "    \n",
    "    for i in range(popsize):\n",
    "        cumfitness += population[i].fitness\n",
    "        if cumfitness < pickfitness: \n",
    "            iParent1 = i\n",
    "            break\n",
    "     \n",
    "\n",
    "    # Escoje el segundo padre, desconsiderando el primer padre\n",
    "    sumfitness = sumfitness - population[iParent1].fitness # retira el fitness del padre ya escogido\n",
    "    pickfitness = uniform(0, sumfitness)   # escoge un numero aleatorio entre 0 y sumfitness\n",
    "    cumfitness = 0     # fitness acumulado\n",
    "    for i in range(popsize):\n",
    "        if i == iParent1: continue   # si es el primer padre \n",
    "        cumfitness += population[i].fitness\n",
    "        if cumfitness < pickfitness: \n",
    "            iParent2 = i\n",
    "            break\n",
    "\n",
    "    return (population[iParent1], population[iParent2])"
   ]
  },
  {
   "cell_type": "markdown",
   "metadata": {},
   "source": [
    "#### function that selects survivors for the next generation"
   ]
  },
  {
   "cell_type": "code",
   "execution_count": 10,
   "metadata": {},
   "outputs": [],
   "source": [
    "def select_survivors(population, offspring_population, numsurvivors):\n",
    "    next_population = []\n",
    "    population.extend(offspring_population) # une las dos poblaciones\n",
    "    isurvivors = sorted(range(len(population)), key=lambda i: population[i].fitness, reverse=True)[:numsurvivors]\n",
    "    for i in range(numsurvivors): next_population.append(population[isurvivors[i]])\n",
    "    return next_population"
   ]
  },
  {
   "cell_type": "markdown",
   "metadata": {},
   "source": [
    "### Genetic Algorithm"
   ]
  },
  {
   "cell_type": "code",
   "execution_count": 11,
   "metadata": {},
   "outputs": [],
   "source": [
    "def genetic_algorithm(population, fitness_fn, queued_vehicles, ngen=1000, pmut=0.1, crossover=\"onepoint\", mutation=\"position\", selection_method=\"roulette\"):\n",
    "    \n",
    "    popsize = len(population)\n",
    "    evaluate_population(population, fitness_fn, queued_vehicles)  # evalua la poblacion inicial\n",
    "    ibest = sorted(range(len(population)), key=lambda i: population[i].fitness, reverse=True)[:1]  # mejor individuo\n",
    "    bestfitness = [population[ibest[0]].fitness]  # mejor fitness\n",
    "\n",
    "    #print(\"Poblacion inicial, best_fitness = {}\".format(population[ibest[0]].fitness))\n",
    "    \n",
    "    for g in range(ngen):   # Por cada generacion\n",
    "\n",
    "        ## Selecciona las parejas de padres para cruzamiento \n",
    "        mating_pool = []\n",
    "        if selection_method == 'tournament':\n",
    "            for i in range(int(popsize/2)): \n",
    "                mating_pool.append(select_parents_tournament(population)) \n",
    "        \n",
    "        if selection_method == 'roulette':\n",
    "            for i in range(int(popsize/2)): \n",
    "\n",
    "                mating_pool.append(select_parents_roulette(population)) \n",
    "        \n",
    "        ## Crea la poblacion descendencia cruzando las parejas del mating pool \n",
    "        offspring_population = []\n",
    "        for i in range(len(mating_pool)): \n",
    "\n",
    "            if crossover == \"onepoint\":\n",
    "                offspring_population.extend( mating_pool[i][0].crossover_onepoint(mating_pool[i][1]) ) # cruzamiento 1 punto\n",
    "            elif crossover == \"uniform\":\n",
    "                offspring_population.extend( mating_pool[i][0].crossover_uniform(mating_pool[i][1]) ) # cruzamiento uniforme\n",
    "\n",
    "        ## Aplica el operador de mutacion con probabilidad pmut en cada hijo generado\n",
    "        for i in range(len(offspring_population)):\n",
    "            if uniform(0, 1) < pmut: \n",
    "                if mutation == \"position\":\n",
    "                    offspring_population[i] = offspring_population[i].mutate_position()   # mutacion de una posicion\n",
    "                elif mutation == \"swap\":\n",
    "                    offspring_population[i] = offspring_population[i].mutate_swap()      # mutacion swap\n",
    "        \n",
    "        ## Evalua la poblacion descendencia creada\n",
    "        evaluate_population(offspring_population, fitness_fn, queued_vehicles)  # evalua la poblacion descendencia\n",
    "        \n",
    "        ## Selecciona popsize individuos para la sgte. generación de la union de la pob. actual y  pob. descendencia\n",
    "        population = select_survivors(population, offspring_population, popsize)\n",
    "\n",
    "        ## Almacena la historia del fitness del mejor individuo\n",
    "        ibest = sorted(range(len(population)), key=lambda i: population[i].fitness, reverse=True)[:1]\n",
    "        bestfitness.append(population[ibest[0]].fitness)\n",
    "        \n",
    "        if (g % 10 == 0):\n",
    "            best_string = population[ibest[0]].chromosome # convert the chromosome to a string for printing\n",
    "            #print(\"generacion {}, Mejor individuol = {} (fitness = {})\".format(g, best_string, population[ibest[0]].fitness))\n",
    "        \n",
    "    best_string = population[ibest[0]].chromosome\n",
    "    #print(\"Mejor individuo en la ultima generacion ({}) = {} (fitness = {})\".format(g, best_string, population[ibest[0]].fitness))\n",
    "    return population[ibest[0]], bestfitness  # devuelve el mejor individuo y la evolucion del mejor fitness x gen"
   ]
  },
  {
   "cell_type": "markdown",
   "metadata": {},
   "source": [
    "#### testing genetic algorithm for the Generalized Proportional Allocation for traffic siganls"
   ]
  },
  {
   "cell_type": "code",
   "execution_count": 49,
   "metadata": {},
   "outputs": [
    {
     "data": {
      "image/png": "[encoded data removed]",
      "text/plain": [
       "<Figure size 432x288 with 1 Axes>"
      ]
     },
     "metadata": {
      "needs_background": "light"
     },
     "output_type": "display_data"
    }
   ],
   "source": [
    "# build the pool of alleles with the suitable random numbers\n",
    "target_example = [[10,20], [10,20], [10,20], [10,20], [10,20], [10,20], [10,20], [10,20], [10,20], [10,20]]\n",
    "queued_vehicles = [[10,20,10,20], [10,20,10,20], [10,20,10,20], [10,20,10,20],[10,20,10,20], [10,20,10,20],\n",
    "                   [10,20,10,20], [10,20,10,20],[10,20,10,20], [10,20,10,20]]\n",
    "allele_pool = []\n",
    "allele_pool.extend( [x for x in range(20, 180)]) # posibles valores para los semaforos en verde\n",
    "\n",
    "#initialize a initial population randomnly\n",
    "num_individuals = 100\n",
    "population = init_population(num_individuals, len(target_example)*2, allele_pool)\n",
    "\n",
    "#call genetic algorithm\n",
    "best_ind, best_fitness = genetic_algorithm(population, gpa_maximization, queued_vehicles, 2000, 0.9, \"onepoint\", \"position\")\n",
    "\n",
    "plt.plot(best_fitness)\n",
    "plt.show()\n"
   ]
  },
  {
   "cell_type": "code",
   "execution_count": null,
   "metadata": {},
   "outputs": [],
   "source": []
  },
  {
   "cell_type": "code",
   "execution_count": 50,
   "metadata": {},
   "outputs": [
    {
     "name": "stdout",
     "output_type": "stream",
     "text": [
      "chromosome [(20, 36), (20, 37), (20, 35), (20, 37), (20, 37), (20, 37), (20, 36), (20, 37), (20, 38), (20, 38)]\n",
      "fitness -630.5304803478905\n"
     ]
    }
   ],
   "source": [
    "best_ind.print_chromosome()"
   ]
  },
  {
   "cell_type": "code",
   "execution_count": 25,
   "metadata": {},
   "outputs": [
    {
     "name": "stdout",
     "output_type": "stream",
     "text": [
      "chromosome [(28, 67), (23, 29), (27, 45), (38, 44), (38, 89), (29, 75), (28, 70), (21, 41), (27, 37), (24, 50)]\n",
      "fitness -645.8183051848637\n"
     ]
    }
   ],
   "source": [
    "best_ind.print_chromosome()"
   ]
  },
  {
   "cell_type": "code",
   "execution_count": 29,
   "metadata": {},
   "outputs": [
    {
     "name": "stdout",
     "output_type": "stream",
     "text": [
      "chromosome [(30, 74), (43, 88), (27, 36), (53, 70), (43, 56), (28, 35), (28, 45), (28, 69), (24, 54), (20, 48)]\n",
      "fitness -648.8763198203349\n"
     ]
    }
   ],
   "source": [
    "best_ind.print_chromosome()"
   ]
  }
 ],
 "metadata": {
  "kernelspec": {
   "display_name": "Python 3",
   "language": "python",
   "name": "python3"
  },
  "language_info": {
   "codemirror_mode": {
    "name": "ipython",
    "version": 3
   },
   "file_extension": ".py",
   "mimetype": "text/x-python",
   "name": "python",
   "nbconvert_exporter": "python",
   "pygments_lexer": "ipython3",
   "version": "3.7.3"
  }
 },
 "nbformat": 4,
 "nbformat_minor": 2
}
